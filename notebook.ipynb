{
 "cells": [
  {
   "cell_type": "markdown",
   "metadata": {},
   "source": [
    "# Sequential test simulations\n",
    "\n",
    "Let us present simulations of five (mostly) sequential parametric tests.\n",
    "\n",
    "Consider Bernoulli random variables $X_1,X_2,...$ iid Alt($p$)\n",
    "\n",
    "We always aim to test the hypothesis\n",
    "\n",
    "H0: $p = p_0$\n",
    "\n",
    "against the alternative\n",
    "\n",
    "H1: $p = p_1$,\n",
    "\n",
    "where $0 < p_0 < p_1 < 1$.\n",
    "\n",
    "The tests can however be used to test the hypotheses H0: $p<= p_0$ versus H1: $p>=p_1$.\n",
    "\n",
    "The idea of the code is that a *test#* function returns *False* if H0 was NOT rejected and *True* if the test DID reject H0 in favour of H1."
   ]
  },
  {
   "cell_type": "markdown",
   "metadata": {},
   "source": [
    "On top of vanilla python 3, the code uses\n",
    "- *numpy* for general math,\n",
    "- *scipy.stats* for binomial quantiles,\n",
    "- *matplotlib.pyplot* for image generation."
   ]
  },
  {
   "cell_type": "code",
   "execution_count": 4,
   "metadata": {},
   "outputs": [],
   "source": [
    "# import libraries\n",
    "import math\n",
    "import numpy as np\n",
    "from scipy.stats import binom\n",
    "import matplotlib.pyplot as plt"
   ]
  },
  {
   "cell_type": "code",
   "execution_count": 5,
   "metadata": {},
   "outputs": [],
   "source": [
    "# auxiliary functions\n",
    "def gen_X( p ):\n",
    "    '''\n",
    "    draw Xi from the pre-specified distribution\n",
    "    with the parameter value set to 'p'\n",
    "    '''\n",
    "    r = np.random.uniform( 0.0, 1.0, 1 )\n",
    "    return( r < p )\n",
    "\n",
    "def choose( j, n ):\n",
    "    return math.factorial( n ) / ( math.factorial( j ) * math.factorial( n-j ) )"
   ]
  },
  {
   "cell_type": "markdown",
   "metadata": {},
   "source": [
    "## 1) Test with fixed sample size"
   ]
  },
  {
   "cell_type": "code",
   "execution_count": 32,
   "metadata": {},
   "outputs": [],
   "source": [
    "def L1( p, k, n ):\n",
    "    '''\n",
    "    probability of accepting H0 if the true value of the parameter is p a.k.a. operational characteristic\n",
    "    '''\n",
    "    return sum( choose( j, n ) * p**j * ( 1-p )**( n-j ) for j in range( int(k+1) ) )\n",
    "\n",
    "def eval_k( n, p0, alpha ):\n",
    "    return binom.ppf( 1-alpha, n, p0 )"
   ]
  },
  {
   "cell_type": "code",
   "execution_count": 36,
   "metadata": {},
   "outputs": [],
   "source": [
    "n = 100\n",
    "alpha = 0.05\n",
    "p = 0.10\n",
    "p0 = 0.10\n",
    "p1 = 0.15"
   ]
  },
  {
   "cell_type": "code",
   "execution_count": 37,
   "metadata": {},
   "outputs": [],
   "source": [
    "def test1( k, verbose = False ):\n",
    "    x = np.array( [ gen_X( p ) for i in range( n ) ] ) # draw the sample\n",
    "    Sn = np.sum( x ) # compute test statistic\n",
    "    L = L1( p, k, n ) # compute operational characteristic\n",
    "    if verbose:\n",
    "        print( 'data = \\n', np.where( x, 1, 0 ).reshape( -1, 20 ) )\n",
    "        print( 'Sn = ', Sn )\n",
    "        print( 'k = ', k)\n",
    "        print( 'L1 = ', L)\n",
    "    return( Sn > k) # True - rejected H0, False - not rejected"
   ]
  },
  {
   "cell_type": "code",
   "execution_count": 38,
   "metadata": {},
   "outputs": [
    {
     "name": "stdout",
     "output_type": "stream",
     "text": [
      "data = \n",
      " [[0 0 1 0 0 0 0 0 0 1 0 0 1 0 1 0 0 0 0 0]\n",
      " [0 0 0 0 0 0 0 0 0 0 1 1 0 0 0 0 0 0 0 0]\n",
      " [0 0 0 0 0 0 0 0 0 0 0 0 0 0 0 0 0 0 0 0]\n",
      " [0 0 0 0 0 0 0 0 0 0 0 0 0 0 0 0 0 0 0 0]\n",
      " [1 0 0 0 0 0 0 1 1 0 1 0 1 0 0 0 0 0 0 0]]\n",
      "Sn =  11\n",
      "k =  15.0\n",
      "L1 =  0.9601094728889192\n",
      "False\n"
     ]
    }
   ],
   "source": [
    "H = test1( eval_k( n, p0, alpha ), verbose = True )\n",
    "print( H )"
   ]
  },
  {
   "cell_type": "markdown",
   "metadata": {},
   "source": [
    "Let us see if the level of the test really holds after some more tries:"
   ]
  },
  {
   "cell_type": "code",
   "execution_count": 10,
   "metadata": {},
   "outputs": [
    {
     "name": "stdout",
     "output_type": "stream",
     "text": [
      "0.036\n"
     ]
    }
   ],
   "source": [
    "lvl = 0\n",
    "for i in range( 1000 ):\n",
    "    H = test1( eval_k( n, p0, alpha ) )\n",
    "    if( H ): lvl += 1\n",
    "\n",
    "print( lvl/1000 )"
   ]
  },
  {
   "cell_type": "markdown",
   "metadata": {},
   "source": [
    "And let us take a look at the operational characteristic of this test:"
   ]
  },
  {
   "cell_type": "code",
   "execution_count": 11,
   "metadata": {
    "scrolled": true
   },
   "outputs": [
    {
     "data": {
      "image/png": "[encoded data removed]",
      "text/plain": [
       "<Figure size 640x480 with 1 Axes>"
      ]
     },
     "metadata": {},
     "output_type": "display_data"
    }
   ],
   "source": [
    "arr_p = np.linspace( 0, 1, 201 )\n",
    "arr_L = L1( arr_p, eval_k( n, p0, alpha ), n )\n",
    "\n",
    "plt.plot( arr_p, arr_L )\n",
    "plt.axvline( x=p0, color='red', linestyle='--' )\n",
    "plt.xlabel( 'p' )\n",
    "plt.ylabel( 'L1(p)' )\n",
    "plt.text(p0-0.01, 0, 'p0', color='red', verticalalignment='bottom', horizontalalignment='right')\n",
    "plt.show()"
   ]
  },
  {
   "cell_type": "markdown",
   "metadata": {},
   "source": [
    "We observe a non-increasing function with values between 0 and 1.\n",
    "\n",
    "It approximately holds that $L_1(p_0)=1-\\alpha$, i.e. **P**(type 1 error, $p_0$)=$\\alpha$."
   ]
  },
  {
   "cell_type": "markdown",
   "metadata": {},
   "source": [
    "## 2) Two-stage test"
   ]
  },
  {
   "cell_type": "code",
   "execution_count": 12,
   "metadata": {},
   "outputs": [],
   "source": [
    "n1 = 50\n",
    "n2 = 50\n",
    "\n",
    "p = 0.45\n",
    "p0 = 0.30\n",
    "p1 = 0.70\n",
    "\n",
    "def eval_a( n, p0, alpha ):\n",
    "    return binom.ppf( 1-alpha/2, n, p0 )\n",
    "\n",
    "def eval_b( n, p1, alpha ):\n",
    "    return binom.ppf( alpha/2, n, p1 )\n",
    "\n",
    "def L2( p, a, b, n1, n2 ):\n",
    "    return L1( p, a, n1 ) + sum( choose( j, n1 ) * p**j * ( 1-p )**( n1-j ) * L1( p, b-j, n2 ) for j in range( int(a+1), int(b) ) )\n",
    "\n",
    "def EN( p, n1, n2, alpha ):\n",
    "    a = eval_a( n1, p0, alpha )\n",
    "    b = eval_b( n1, p1, alpha )\n",
    "    # print( round( L1( p, b, n1 ), 4 ), round( L1( p, a, n1 ), 4 ) )\n",
    "    return n1 + n2*( L1( p, b, n1 ) - L1( p, a, n1) )\n",
    "\n",
    "def test2( n1, n2, alpha, p0, p1, verbose=False ):\n",
    "    a = eval_a( n1, p0, alpha )\n",
    "    b = eval_b( n2, p1, alpha )\n",
    "    x = np.array( [ gen_X( p ) for i in range( n1 ) ] ) # draw the sample\n",
    "    Sn = np.sum( x ) # test statistic\n",
    "    if verbose: print( 'Stage one:\\na =', a, ', b =', b, ', Sn =', Sn )\n",
    "    if( Sn <= a ): return False\n",
    "    elif( Sn > b ): return True\n",
    "    else:\n",
    "        x = np.append( x, np.array( [ gen_X( p ) for i in range( n2 ) ] ) ) # extend the sample\n",
    "        b = eval_b( n1+n2, p1, alpha )\n",
    "        Sn = np.sum( x ) # recalculate test statistic\n",
    "        if verbose: print( 'Stage two:\\nb =', b, ', Sn =', Sn)\n",
    "        if( Sn <= b ): return False\n",
    "        else: return True"
   ]
  },
  {
   "cell_type": "code",
   "execution_count": 13,
   "metadata": {},
   "outputs": [
    {
     "name": "stdout",
     "output_type": "stream",
     "text": [
      "Stage one:\n",
      "a = 22.0 , b = 28.0 , Sn = 21\n",
      "False\n",
      "EN = 76.6038\n"
     ]
    }
   ],
   "source": [
    "print( test2( n1, n2, alpha, p0, p1, verbose = True ) )\n",
    "print( 'EN =', round( EN( p, n1, n2, alpha ), ndigits = 4) )"
   ]
  },
  {
   "cell_type": "markdown",
   "metadata": {},
   "source": [
    "Let us examine the expected sample size for different values of *p*:"
   ]
  },
  {
   "cell_type": "code",
   "execution_count": 14,
   "metadata": {},
   "outputs": [],
   "source": [
    "arr_p = np.linspace( 0, 1, 201 )\n",
    "arr_EN = EN( arr_p, n1, n2, alpha )"
   ]
  },
  {
   "cell_type": "code",
   "execution_count": 15,
   "metadata": {},
   "outputs": [
    {
     "data": {
      "image/png": "[encoded data removed]",
      "text/plain": [
       "<Figure size 640x480 with 1 Axes>"
      ]
     },
     "metadata": {},
     "output_type": "display_data"
    }
   ],
   "source": [
    "plt.plot( arr_p, arr_EN )\n",
    "plt.xlabel( 'p' )\n",
    "plt.ylabel( 'EN(p)' )\n",
    "plt.show()"
   ]
  },
  {
   "cell_type": "code",
   "execution_count": 16,
   "metadata": {},
   "outputs": [
    {
     "data": {
      "image/png": "[encoded data removed]",
      "text/plain": [
       "<Figure size 640x480 with 1 Axes>"
      ]
     },
     "metadata": {},
     "output_type": "display_data"
    }
   ],
   "source": [
    "p0 = 0.10\n",
    "p1 = 0.90\n",
    "\n",
    "arr_p = np.linspace( 0, 1, 201 )\n",
    "arr_EN = EN( arr_p, n1, n2, alpha )\n",
    "\n",
    "plt.plot( arr_p, arr_EN )\n",
    "plt.xlabel( 'p' )\n",
    "plt.ylabel( 'EN(p)' )\n",
    "plt.show()"
   ]
  },
  {
   "cell_type": "code",
   "execution_count": 17,
   "metadata": {
    "scrolled": false
   },
   "outputs": [
    {
     "data": {
      "image/png": "[encoded data removed]",
      "text/plain": [
       "<Figure size 640x480 with 1 Axes>"
      ]
     },
     "metadata": {},
     "output_type": "display_data"
    }
   ],
   "source": [
    "p0 = 0.50\n",
    "p1 = 0.80\n",
    "\n",
    "arr_p = np.linspace( 0, 1, 201 )\n",
    "arr_EN = EN( arr_p, n1, n2, alpha )\n",
    "\n",
    "plt.plot( arr_p, arr_EN )\n",
    "plt.xlabel( 'p' )\n",
    "plt.ylabel( 'EN(p)' )\n",
    "plt.show()"
   ]
  },
  {
   "cell_type": "markdown",
   "metadata": {},
   "source": [
    "The function ranges between $n_1$ and $n_1+n_2$.\n",
    "\n",
    "It has a maximum at the average of $p_0$ and $p_1$."
   ]
  },
  {
   "cell_type": "markdown",
   "metadata": {},
   "source": [
    "# 3) Curtailed-sampling test"
   ]
  },
  {
   "cell_type": "markdown",
   "metadata": {},
   "source": [
    "Select maximum sample size *N*. Select $c$.\n",
    "\n",
    "We first draw $X_1,...,X_n$, compute $S_n$ as a sum of them.\n",
    "\n",
    "Reject H0 if the $S_n \\geq c$. If not, draw $X_{n+1}$, recalculate $S_n$.\n",
    "\n",
    "From now on, the rejection rule is $S_n = c$. Repeat until rejection or until *n==N*."
   ]
  },
  {
   "cell_type": "code",
   "execution_count": 18,
   "metadata": {},
   "outputs": [],
   "source": [
    "def eval_c( N, p0, alpha ):\n",
    "    return binom.ppf( 1-alpha, N, p0 )\n",
    "\n",
    "def L3( p, c, N ):\n",
    "    return sum( choose( d, N ) * p**d * (1-p)**(N-d) for d in range( int(c) ) )\n",
    "\n",
    "def EN3( p, c, N ):\n",
    "    k1 = c/p * sum( choose( d, N+1 ) * p**d * (1-p)**(N+1-d) for d in range( int(c+1), int(N+2) ) )\n",
    "    k2 = (N+1-c) / (1-p) * sum( choose( d, N+1 ) * p**d * (1-p)**(N+1-d) for d in range( int(c) ) )\n",
    "    return k1 + k2\n",
    "\n",
    "def test3( n, N, p0, alpha, verbose = False ):\n",
    "    c = eval_c( N, p0, alpha )\n",
    "    x = np.array( [ gen_X( p ) for i in range( n ) ] ) # draw the sample\n",
    "    Sn = np.sum( x ) # test statistic\n",
    "    while n < N and Sn <= c: # while not rejected\n",
    "        if( Sn == c ):\n",
    "            if verbose:\n",
    "                print( 'Sample of size', n )\n",
    "                print( 'c =', int(c) )\n",
    "                print( 'Sn =', Sn )\n",
    "                print( 'L3 =', np.round( L3( p, c, N ), decimals = 3 ) )\n",
    "            return True\n",
    "        else:\n",
    "            x = np.append( x, gen_X( p ) ) # extend sample with Xn+1\n",
    "            Sn = sum( x )\n",
    "            n += 1\n",
    "    if verbose:\n",
    "        print( 'Sample of size', n )\n",
    "        print( 'c =', c )\n",
    "        print( 'Sn =', Sn )\n",
    "        print( 'L3 =', np.round( L3( p, c, N ), decimals = 3 ) )\n",
    "    return False"
   ]
  },
  {
   "cell_type": "code",
   "execution_count": 19,
   "metadata": {},
   "outputs": [
    {
     "name": "stdout",
     "output_type": "stream",
     "text": [
      "Sample of size 200\n",
      "c = 71.0\n",
      "Sn = 60\n",
      "L3 = 0.946\n",
      "False\n"
     ]
    }
   ],
   "source": [
    "N = 200 # maximum sample size\n",
    "n = 20 # initial sample size\n",
    "\n",
    "p0 = 0.30\n",
    "p1 = 0.50\n",
    "alpha = 0.05\n",
    "\n",
    "p = 0.30\n",
    "\n",
    "print( test3( n, N, p0, alpha, verbose = True ) )"
   ]
  },
  {
   "cell_type": "markdown",
   "metadata": {},
   "source": [
    "The operational characteristic is not very different from the previous ones:"
   ]
  },
  {
   "cell_type": "code",
   "execution_count": 20,
   "metadata": {},
   "outputs": [
    {
     "data": {
      "image/png": "[encoded data removed]",
      "text/plain": [
       "<Figure size 640x480 with 1 Axes>"
      ]
     },
     "metadata": {},
     "output_type": "display_data"
    }
   ],
   "source": [
    "arr_p = np.linspace( 0, 1, 201 )\n",
    "arr_L = L3( arr_p, eval_c( N, p0, alpha ), N )\n",
    "\n",
    "# plot of the operational characteristic\n",
    "plt.plot( arr_p, arr_L )\n",
    "plt.axvline( x=p0, color='red', linestyle='--' )\n",
    "plt.text( p0-0.01, -0.02, 'p0', color='red', verticalalignment='bottom', horizontalalignment='right' )\n",
    "plt.xlabel( 'p' )\n",
    "plt.ylabel( 'L3(p)' )\n",
    "plt.title( 'Operational characteristic of test3' )\n",
    "plt.show()"
   ]
  },
  {
   "cell_type": "markdown",
   "metadata": {},
   "source": [
    "The expected sample size is however very different:"
   ]
  },
  {
   "cell_type": "code",
   "execution_count": 21,
   "metadata": {},
   "outputs": [
    {
     "data": {
      "image/png": "[encoded data removed]",
      "text/plain": [
       "<Figure size 640x480 with 1 Axes>"
      ]
     },
     "metadata": {},
     "output_type": "display_data"
    }
   ],
   "source": [
    "arr_p = np.linspace( 0.005, 0.995, 199 ) # funnily enough, 0 and 1 result in divide by zero exception\n",
    "c = eval_c( N, p0, alpha )\n",
    "arr_EN3 = EN3( arr_p, c, N )\n",
    "\n",
    "# plot of expected sample size\n",
    "plt.plot( arr_p, arr_EN3 )\n",
    "plt.axvline( x=p0, color='red', linestyle='--' )\n",
    "plt.text( p0-0.01, 80, 'p0', color='red', verticalalignment='bottom', horizontalalignment='right' )\n",
    "plt.axvline( x=p1, color='purple', linestyle='--' )\n",
    "plt.text( p1+0.02, 80, 'p1', color='purple', verticalalignment='bottom', horizontalalignment='left' )\n",
    "plt.title( 'Expected sample size of test3' )\n",
    "plt.show()"
   ]
  },
  {
   "cell_type": "markdown",
   "metadata": {},
   "source": [
    "# 4) Wald sequential test"
   ]
  },
  {
   "cell_type": "markdown",
   "metadata": {},
   "source": [
    "The idea is to first draw a sample of size *n* and see if we can decide. If not, draw another variable and repeat until one of the critical inequalities is violated. This will happen with probability 1."
   ]
  },
  {
   "cell_type": "code",
   "execution_count": 22,
   "metadata": {},
   "outputs": [],
   "source": [
    "n = 10\n",
    "\n",
    "alpha = 0.05\n",
    "beta = 0.05\n",
    "\n",
    "p0 = 0.40\n",
    "p1 = 0.41\n",
    "\n",
    "a = math.log( (1-beta) / alpha )\n",
    "b = math.log( beta / (1-alpha) )\n",
    "\n",
    "ha = a / math.log( (p1*(1-p0)) / (p0*(1-p1)) )\n",
    "hb = b / math.log( (p1*(1-p0)) / (p0*(1-p1)) )\n",
    "\n",
    "s = math.log( (1-p0)/(1-p1) ) / math.log( (p1*(1-p0)) / (p0*(1-p1)) )\n",
    "\n",
    "\n",
    "def test4( p, n_init, n_add = 1, verbose = False ):\n",
    "    counter = 1\n",
    "    x = np.array( [ gen_X( p ) for i in range( n_init ) ] )\n",
    "    while hb + (n*counter)*s < sum( x ) and sum( x ) < ha + (n*counter)*s:\n",
    "        counter += 1\n",
    "        x = np.append( x, np.array( [ gen_X( p ) for i in range( n_add ) ] ) ) # extend the sample\n",
    "    if verbose:\n",
    "        print( 'data = \\n', np.where( x, 1, 0 ) )\n",
    "        print( counter-1, 'sample extensions required' )\n",
    "    if sum( x ) < hb + (n*counter)*s: return False\n",
    "    else: return True"
   ]
  },
  {
   "cell_type": "code",
   "execution_count": 23,
   "metadata": {},
   "outputs": [
    {
     "name": "stdout",
     "output_type": "stream",
     "text": [
      "data = \n",
      " [0 1 0 0 0 0 0 0 0 0 0 1 1 1 0 0 1 0 1 0 1 0 0 0 0 0 1 1 0]\n",
      "19 sample extensions required\n",
      "False\n"
     ]
    }
   ],
   "source": [
    "print( test4( 0.45, n_init = 10, verbose = True ) )"
   ]
  },
  {
   "cell_type": "markdown",
   "metadata": {},
   "source": [
    "# 5) Wald curtailed test"
   ]
  },
  {
   "cell_type": "markdown",
   "metadata": {},
   "source": [
    "A combintation of tests 3) and 4).\n",
    "\n",
    "`while( n < N ):\n",
    "    do Wald sequential test\n",
    "decide`"
   ]
  },
  {
   "cell_type": "code",
   "execution_count": 24,
   "metadata": {},
   "outputs": [],
   "source": [
    "def test5( p, N, n=1, verbose = False ): # (n*counter) is the sample size after extension\n",
    "    counter = 1\n",
    "    x = np.array( [ gen_X( p ) for i in range( n ) ] )\n",
    "    while hb + (n*counter)*s < sum( x ) and sum( x ) < ha + (n*counter)*s:\n",
    "        counter += 1\n",
    "        x = np.append( x, np.array( [ gen_X( p ) for i in range( n ) ] ) ) # extend the sample\n",
    "        if n*counter >= N: break\n",
    "        else: pass\n",
    "    if verbose:\n",
    "        print( 'data = \\n', np.where( x, 1, 0 ) )\n",
    "        print( counter-1, 'sample extensions required' )\n",
    "        if( n*counter >= N ): print( 'Stopped at limit N =', N )\n",
    "        else: print( 'Stopped naturally' )\n",
    "    if( n*counter >= N ): # limit reached\n",
    "        if sum( x ) < len( x ) * s: return False\n",
    "        else: return True\n",
    "    elif sum( x ) < hb + (n*counter)*s: return False # rule from test4\n",
    "    else: return True"
   ]
  },
  {
   "cell_type": "code",
   "execution_count": 25,
   "metadata": {},
   "outputs": [
    {
     "name": "stdout",
     "output_type": "stream",
     "text": [
      "data = \n",
      " [1 0 1 1 1 0 1 0 0 1 0 0 0 1 1 0 0 0 0 0 0 1 1 0 1 0 0 0 1 0 1 1 0 0 0 0 0\n",
      " 1 1 0 0 0 1 0 1 0 1 0 0 1 1 0 0 1 0 1 0 0 0 1 1 1 1 1 0 1 0 0 0 1 0 0 1 1\n",
      " 1 0 1 1 1 1 1 1 0 1 1 0 0 1 0 0 1 0 1 1 1 1 0 0 1 1 0 1 1 1 1 1 1 0 0 1 0\n",
      " 1 1 0 0 1 0 0 0 1 0 0 1 1 0 1 0 1 0 0 0 1 1 0 0 0 1 1 0 1 1 0 1 0 0 0 0 0\n",
      " 0 0 1 0 1 1 1 0 1 0 1 0 0 0 0 1 1 1 1 0 1 1 0 0 1 1 0 1 1 0 0 1 0 1 1 1 0\n",
      " 1 0 1 1 1 1 0 0 0 1 0 0 0 1 1 0 0 0 1 0 0 1 1 1 1 0 1 1 0 0 1 1 1 1 0 1 1\n",
      " 1 1 0 1 1 1 0 0 0 0 1 0 0 1 1 0 0 0 1 0 0 0 0 1 1 0 1 0 1 0 1 1 0 0 1 1 1\n",
      " 0 0 1 1 0 0 0 1 1 1 0 1 0 0 0 0 1 0 0 1 0 1 0 1 0 0 1 1 1 1 1 1 1 1 1 0 0\n",
      " 0 0 0 0 1 0 0 0 0 0 1 1 0 0 1 1 0 1 0 1 1 0 0 0 1 0 0 0 0 1 1 0 1 1 0 0 1\n",
      " 1 0 1 0 0 0 1 0 0 1 1 0 1 1 1 1 0 1 1 0 0 1 1 0 0 0 1 0 0 0 0 0 0 0 0 1 0\n",
      " 1 0 1 1 0 1 1 1 1 0 0 1 0 0 1 0 1 1 1 1 0 0 1 0 1 1 0 1 1 0 1 1 1 0 0 1 0\n",
      " 1 0 0 1 0 0 0 0 1 1 0 0 0 1 0 0 0 1 1 0 1 1 1 0 1 1 0 0 0 1 1 0 0 1 0 1 1\n",
      " 1 0 0 1 0 0 1 1 0 1 1 1 0 0 1 1 0 1 1 0 1 0 1 1 0 0 1 0 0 1 1 1 0 1 0 1 0\n",
      " 0 1 0 1 1 0 1 0 1 1 0 1 0 0 1 0 0 0 1]\n",
      "499 sample extensions required\n",
      "Stopped at limit N = 500\n",
      "True\n"
     ]
    }
   ],
   "source": [
    "p0 = 0.45\n",
    "p1 = 0.50\n",
    "\n",
    "alpha = 0.05\n",
    "beta = 0.05\n",
    "\n",
    "a = math.log( (1-beta) / alpha )\n",
    "b = math.log( beta / (1-alpha) )\n",
    "\n",
    "ha = a / math.log( (p1*(1-p0)) / (p0*(1-p1)) )\n",
    "hb = b / math.log( (p1*(1-p0)) / (p0*(1-p1)) )\n",
    "\n",
    "s = math.log( (1-p0)/(1-p1) ) / math.log( (p1*(1-p0)) / (p0*(1-p1)) )\n",
    "\n",
    "print( test5( 0.45, N = 500, verbose = True ) )"
   ]
  },
  {
   "cell_type": "markdown",
   "metadata": {},
   "source": [
    "# 6) Wald test for groups"
   ]
  },
  {
   "cell_type": "markdown",
   "metadata": {},
   "source": [
    "The test works similarly to the ordinary Wald sequential test, but the sample is generally extended by a group of random variables *Xn+1,...,Xn+k*.\n",
    "\n",
    "In the code, simply set *n_add* = desired group size."
   ]
  },
  {
   "cell_type": "markdown",
   "metadata": {},
   "source": [
    "The following example is motivated by the origin of Wald sequential test. The goal was to determine the percentage of faulty Flak shots in a batch.\n",
    "\n",
    "More precisely, we aim to test\n",
    "\n",
    "H0: $p\\leq p_0$\n",
    "\n",
    "against\n",
    "\n",
    "H1: $p\\geq p_1$.\n",
    "\n",
    "We can only imagine what the real quantities were, so we assumed the initial sample size could have been *n=30* and the acceptable faulty rate, say, 3 %."
   ]
  },
  {
   "cell_type": "code",
   "execution_count": 26,
   "metadata": {},
   "outputs": [
    {
     "name": "stdout",
     "output_type": "stream",
     "text": [
      "[0.05525787]\n",
      "data = \n",
      " [1 0 0 0 0 0 0 0 0 0 0 0 0 0 0 0 0 0 0 0 0 0 0 0 0 1 0 0 0 0 0 0 0 0 0 0 0\n",
      " 0 0 0 0 0 0 0 0 0 0 0 0 0 0 0 0 0 0 0 0 0 0 0 0 0 0 0 0 0 0 0 0 0 0 0 0 0\n",
      " 0 0 0 1 0 0 0 0 0 0 0 0 0 0 0 0 0 0 0 0 0 1 0 0 1 1 0 0 0 0 0 0 0 0 0 0 0\n",
      " 0 0 0 1 0 0 0 0 0 0 0 0 0 0 0 0 0 0 0 0 0 0 0 0 0 0 0 0 0 0 0 0 0 0 0 0 0\n",
      " 0 0 0 0 1 0 0 0 0 0 0 0 0 1 0 1 1 0 0 0 0 0 0 0 0 0 0 1 0 0 0 0 1 0 0 0 0\n",
      " 0 0 0 0 0 0 0 0 0 0 0 0 0 0 0 1 1 0 0 0 0 0 0 0 0 0 0 0 0 0 0 0 0 0 0 0 0\n",
      " 0 0 0 0 0 0 0 0 0 0 0 0 0 0 0 0 0 0 0 0 0 0 0 0 0 0 0 0 0 0 0 0 0 0 0 0 1\n",
      " 0 0 0 0 0 0 1 0 0 0 1 0 0 0 0 0 0 0 0 0 0 0 0 0 0 0 0 0 0 0 0 0 0 0 0 0 0\n",
      " 0 0 0 0 0 0 0 0 0 0 0 1 0 0 0 0 0 0 0 0 0 0 0 0 0 0 0 0 0 0 0 0 0 0 0 0 0\n",
      " 0 0 0 0 0 0 0 0 0 1 0 0 0 0 1 0 0 0 0 0 0 0 0 0 0 0 0 0 0 0 0 1 0 0 0 0 0\n",
      " 0 0 0 0 0 0 0 0 0 0 0 0 0 0 1 0 0 0 0 0 1 0 0 0 0 0 0 0 0 0 0 0 0 0 0 0 0\n",
      " 0 0 0 1 0 0 0 0 0 0 0 0 0 0 1 0 0 0 0 0 1 0 0 0 1 0 0 0 0 0 0 0 0 0 0 1 0\n",
      " 0 0 0 0 0 0 0 0 0 0 1 0 0 0 0 0 0 0 0 0 0 0 0 0 0 0 0 0 0 0 0 0 0 0 0 0 0\n",
      " 0 0 0 0 0 0 0 0 0 0 0 0 0 0 1 0 0 0 0 0 0 0 0 0 0 0 0 0 0 0 0 0 0 0 0 0 0\n",
      " 1 0 0 0 0 0 0 0 0 1 0 0 0 0 0 0 0 0 0 0 0 0 0 0 0 0 0 0 0 0 0 0 0 0 0 0 0\n",
      " 0 0 0 0 0 0 0 0 0 0 0 0 0 0 0 0 0 0 0 0 0 0 0 0 0 0 0 1 0 0 0 0 0 0 0 0 0\n",
      " 0 0 0 0 0 0 0 0 0 0 0 1 0 0 0 0 0 0 0 0 0 0 0 0 0 0 0 0 0 0 0 0 0 0 0 0 0\n",
      " 0 0 0 0 0 0 0 0 0 0 0 0 0 0 0 0 0 0 0 0 0 0 0 0 0 0 0 0 0 0 0 0 1 1 0 0 0\n",
      " 0 0 0 0 0 0 0 0 0 0 0 0 0 0 0 0 0 0 0 0 0 0 0 0 0 0 0 0 0 0 0 0 0 0]\n",
      "134 sample extensions required\n",
      "False\n"
     ]
    }
   ],
   "source": [
    "p0 = 0.03\n",
    "p1 = 0.04\n",
    "\n",
    "a = math.log( (1-beta) / alpha )\n",
    "b = math.log( beta / (1-alpha) )\n",
    "\n",
    "ha = a / math.log( (p1*(1-p0)) / (p0*(1-p1)) )\n",
    "hb = b / math.log( (p1*(1-p0)) / (p0*(1-p1)) )\n",
    "\n",
    "s = math.log( (1-p0)/(1-p1) ) / math.log( (p1*(1-p0)) / (p0*(1-p1)) )\n",
    "\n",
    "p = np.random.uniform( 0.00, 0.08, 1 )\n",
    "print( p )\n",
    "\n",
    "print( test4( p, n_init = 30, n_add = 5, verbose = True ) ) # first draw 10, if not decided, extend the sample by five"
   ]
  },
  {
   "cell_type": "markdown",
   "metadata": {},
   "source": [
    "# Side note: Comparison of the tests\n",
    "\n",
    "We have now introduced a lot of tests. Let us see how they perform copmared to each other."
   ]
  },
  {
   "cell_type": "code",
   "execution_count": 58,
   "metadata": {},
   "outputs": [
    {
     "name": "stdout",
     "output_type": "stream",
     "text": [
      "[0.966 0.978 0.925 1.   ]\n"
     ]
    },
    {
     "data": {
      "image/png": "[encoded data removed]",
      "text/plain": [
       "<Figure size 640x480 with 1 Axes>"
      ]
     },
     "metadata": {},
     "output_type": "display_data"
    }
   ],
   "source": [
    "p = 0.10\n",
    "\n",
    "p0 = 0.10\n",
    "p1 = 0.15\n",
    "\n",
    "alpha = 0.05\n",
    "beta = 0.05\n",
    "\n",
    "a = math.log( (1-beta) / alpha )\n",
    "b = math.log( beta / (1-alpha) )\n",
    "\n",
    "ha = a / math.log( (p1*(1-p0)) / (p0*(1-p1)) )\n",
    "hb = b / math.log( (p1*(1-p0)) / (p0*(1-p1)) )\n",
    "\n",
    "s = math.log( (1-p0)/(1-p1) ) / math.log( (p1*(1-p0)) / (p0*(1-p1)) )\n",
    "\n",
    "arr_res1 = np.array( [ test1( eval_k( n = 100, p0 = p0, alpha = 0.05) ) for _ in range(1000) ] )\n",
    "arr_res2 = np.array( [ test2( n1 = 50, n2 = 50, alpha = 0.05, p0 = p0, p1 = p1 ) for _ in range(1000) ] )\n",
    "arr_res3 = np.array( [ test3( n =20, N = 100, p0 = p0, alpha = 0.05 ) for _ in range(1000) ] )\n",
    "arr_res4 = np.array( [ test4( p = 0.10, n_init = 20, n_add = 1 ) for _ in range(1000) ] )\n",
    "\n",
    "y1 = ( 1000 - np.sum( arr_res1 ) ) / 1000\n",
    "y2 = ( 1000 - np.sum( arr_res2 ) ) / 1000\n",
    "y3 = ( 1000 - np.sum( arr_res3 ) ) / 1000\n",
    "y4 = ( 1000 - np.sum( arr_res4 ) ) / 1000\n",
    "\n",
    "arr_x = np.array( [ 1, 2, 3, 4 ] )\n",
    "arr_y = np.array( [ y1, y2, y3, y4 ] )\n",
    "\n",
    "print( arr_y )\n",
    "\n",
    "plt.bar( arr_x, arr_y )\n",
    "plt.show()"
   ]
  },
  {
   "cell_type": "markdown",
   "metadata": {},
   "source": [
    "Next up, we have some"
   ]
  },
  {
   "cell_type": "markdown",
   "metadata": {},
   "source": [
    "# 7) Tests about variance of a normal distribution"
   ]
  },
  {
   "cell_type": "markdown",
   "metadata": {},
   "source": [
    "The goal is now to test\n",
    "\n",
    "H0: $\\sigma^2=\\sigma^2_0$\n",
    "\n",
    "against\n",
    "\n",
    "H1: $\\sigma^2=\\sigma^2_1$.\n",
    "\n",
    "First, we assume our random sample to have been drawn from N$(\\mu,\\sigma^2)$, where $\\mu$ is known in prior."
   ]
  },
  {
   "cell_type": "code",
   "execution_count": 30,
   "metadata": {},
   "outputs": [],
   "source": [
    "def testN1( ha, hb, s, mu, sigma, n = 1, verbose = False ):\n",
    "    counter = 1\n",
    "    x = np.random.normal( mu, math.sqrt(sigma), size = n )\n",
    "    while hb + (n*counter)*s < sum( (x-mu)**2 ) and sum( (x-mu)**2 ) < ha + (n*counter)*s:\n",
    "        counter += 1\n",
    "        x = np.append( x, np.random.normal( mu, math.sqrt(sigma), size = n ) ) # extend the sample\n",
    "    if verbose:\n",
    "        print( 'data = \\n', np.round( x, decimals = 3 ).reshape( -1, n ) )\n",
    "        print( counter-1, 'sample extensions required' )\n",
    "    if sum( (x-mu)**2 ) < hb + (n*counter)*s: return False\n",
    "    else: return True"
   ]
  },
  {
   "cell_type": "code",
   "execution_count": 32,
   "metadata": {},
   "outputs": [
    {
     "name": "stdout",
     "output_type": "stream",
     "text": [
      "data = \n",
      " [[-1.003  2.561 -1.534  1.597 -0.171]\n",
      " [-3.495 -3.749  0.078  1.393  0.956]]\n",
      "1 sample extensions required\n",
      "True\n"
     ]
    }
   ],
   "source": [
    "alpha = 0.05\n",
    "beta = 0.05\n",
    "\n",
    "mu = 0\n",
    "sigma = 4\n",
    "\n",
    "sigma0 = 1\n",
    "sigma1 = 4\n",
    "\n",
    "a = math.log( (1-beta) / alpha )\n",
    "b = math.log( beta / (1-alpha) )\n",
    "\n",
    "ha = 2*a / ( sigma0**(-2) - sigma1**(-2) )\n",
    "hb = 2*b / ( sigma0**(-2) - sigma1**(-2) )\n",
    "s = 2*math.log( sigma1/sigma0) / ( sigma0**(-2) - sigma1**(-2) )\n",
    "\n",
    "n = 5\n",
    "\n",
    "print( testN1( ha, hb, s, mu, sigma, n = 5, verbose = True ) )"
   ]
  },
  {
   "cell_type": "markdown",
   "metadata": {},
   "source": [
    "It is however not necessary to know $\\mu$ in advance. Just run the following test and see yourself."
   ]
  },
  {
   "cell_type": "code",
   "execution_count": 44,
   "metadata": {},
   "outputs": [],
   "source": [
    "def testN2( ha, hb, s, mu, sigma, n = 1, verbose = False ):\n",
    "    counter = 1\n",
    "    x = np.random.normal( mu, math.sqrt(sigma), size = n )\n",
    "    while hb + (n*counter)*s < sum( ( x - np.mean(x) )**2 ) and sum( ( x - np.mean(x) )**2 ) < ha + (n*counter)*s:\n",
    "        counter += 1\n",
    "        x = np.append( x, np.random.normal( mu, math.sqrt(sigma), size = n ) ) # extend the sample\n",
    "    if verbose:\n",
    "        print( 'data = \\n', np.round( x, decimals = 3 ) )\n",
    "        print( counter-1, 'sample extensions required' )\n",
    "    if sum( ( x - np.mean(x) )**2 ) < hb + (n*counter)*s: return False\n",
    "    else: return True"
   ]
  },
  {
   "cell_type": "code",
   "execution_count": 45,
   "metadata": {},
   "outputs": [
    {
     "name": "stdout",
     "output_type": "stream",
     "text": [
      "data = \n",
      " [[92.564 93.951 95.23  90.584 96.675]]\n",
      "0 sample extensions required\n",
      "True\n"
     ]
    }
   ],
   "source": [
    "alpha = 0.05\n",
    "beta = 0.05\n",
    "\n",
    "sigma = 4\n",
    "\n",
    "sigma0 = 1\n",
    "sigma1 = 4\n",
    "\n",
    "a = math.log( (1-beta) / alpha )\n",
    "b = math.log( beta / (1-alpha) )\n",
    "\n",
    "ha = 2*a / ( sigma0**(-2) - sigma1**(-2) )\n",
    "hb = 2*b / ( sigma0**(-2) - sigma1**(-2) )\n",
    "s = 2*math.log( sigma1/sigma0) / ( sigma0**(-2) - sigma1**(-2) )\n",
    "\n",
    "mu = np.random.uniform( 0.0, 100.0, 1) # so that mu is truly unknown\n",
    "print( testN1( ha, hb, s, mu, sigma, n = 5, verbose = True ) )"
   ]
  }
 ],
 "metadata": {
  "kernelspec": {
   "display_name": "Python 3 (ipykernel)",
   "language": "python",
   "name": "python3"
  },
  "language_info": {
   "codemirror_mode": {
    "name": "ipython",
    "version": 3
   },
   "file_extension": ".py",
   "mimetype": "text/x-python",
   "name": "python",
   "nbconvert_exporter": "python",
   "pygments_lexer": "ipython3",
   "version": "3.9.13"
  }
 },
 "nbformat": 4,
 "nbformat_minor": 2
}
